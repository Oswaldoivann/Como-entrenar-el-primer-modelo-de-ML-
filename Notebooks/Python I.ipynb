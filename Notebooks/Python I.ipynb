{
 "cells": [
  {
   "cell_type": "markdown",
   "id": "0606498c-6545-4223-b762-9d648ac2fe9c",
   "metadata": {
    "tags": []
   },
   "source": [
    "# Python I"
   ]
  },
  {
   "cell_type": "markdown",
   "id": "a075580c-fce8-4479-b3e9-76d8762b3036",
   "metadata": {
    "tags": []
   },
   "source": [
    "## Hello World"
   ]
  },
  {
   "cell_type": "code",
   "execution_count": 1,
   "id": "8b7c6f6c-b93b-44c9-ac0f-a858ef52935f",
   "metadata": {},
   "outputs": [
    {
     "name": "stdout",
     "output_type": "stream",
     "text": [
      "Hello World\n"
     ]
    }
   ],
   "source": [
    "print('Hello World')"
   ]
  },
  {
   "cell_type": "markdown",
   "id": "fbff971c-53cd-460d-91d6-f174dab6664f",
   "metadata": {
    "tags": []
   },
   "source": [
    "## Mi primer For"
   ]
  },
  {
   "cell_type": "code",
   "execution_count": 24,
   "id": "cbc13ece-6577-4647-9b1e-94e4ef8600e4",
   "metadata": {},
   "outputs": [
    {
     "name": "stdout",
     "output_type": "stream",
     "text": [
      "O\n",
      "s\n",
      "w\n",
      "a\n",
      "l\n",
      "d\n",
      "o\n"
     ]
    }
   ],
   "source": [
    "nombre = 'Oswaldo'\n",
    "\n",
    "for i in nombre:\n",
    "    print(i)"
   ]
  },
  {
   "cell_type": "markdown",
   "id": "5825fda2-b31a-4b71-8077-83f49de0951d",
   "metadata": {
    "tags": []
   },
   "source": [
    "## Mi primer Función"
   ]
  },
  {
   "cell_type": "code",
   "execution_count": 3,
   "id": "984a5da9-3066-41bc-8d05-1f6749691138",
   "metadata": {},
   "outputs": [],
   "source": [
    "string = 'oswaldo'\n",
    "\n",
    "def my_func(x):\n",
    "    print('My name is:' + '\\n')\n",
    "    for i in x:\n",
    "        print(i)"
   ]
  },
  {
   "cell_type": "code",
   "execution_count": 4,
   "id": "b53f35cd-7ef4-4283-9948-11591e4a4a18",
   "metadata": {},
   "outputs": [
    {
     "name": "stdout",
     "output_type": "stream",
     "text": [
      "My name is:\n",
      "\n",
      "o\n",
      "s\n",
      "w\n",
      "a\n",
      "l\n",
      "d\n",
      "o\n"
     ]
    }
   ],
   "source": [
    "my_func(string)"
   ]
  },
  {
   "cell_type": "code",
   "execution_count": null,
   "id": "ddb273c8-b3e3-4fea-a2ba-fd8f4257e67f",
   "metadata": {},
   "outputs": [],
   "source": []
  }
 ],
 "metadata": {
  "kernelspec": {
   "display_name": "default:Python",
   "language": "python",
   "name": "conda-env-default-py"
  },
  "language_info": {
   "codemirror_mode": {
    "name": "ipython",
    "version": 3
   },
   "file_extension": ".py",
   "mimetype": "text/x-python",
   "name": "python",
   "nbconvert_exporter": "python",
   "pygments_lexer": "ipython3",
   "version": "3.9.13"
  }
 },
 "nbformat": 4,
 "nbformat_minor": 5
}
