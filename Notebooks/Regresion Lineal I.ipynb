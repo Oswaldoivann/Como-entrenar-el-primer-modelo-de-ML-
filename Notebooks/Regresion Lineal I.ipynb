{
 "cells": [
  {
   "cell_type": "markdown",
   "id": "106381d9-c6d5-4bd8-aef7-86d79bf01a2d",
   "metadata": {
    "tags": []
   },
   "source": [
    "# Regresion Lineal"
   ]
  },
  {
   "cell_type": "markdown",
   "id": "a2a9cc27-ed0b-4182-9107-d2417733e2e2",
   "metadata": {
    "tags": []
   },
   "source": [
    "## Data Set"
   ]
  },
  {
   "cell_type": "markdown",
   "id": "1934778a-90a1-4e58-a003-272acfb4a006",
   "metadata": {
    "jp-MarkdownHeadingCollapsed": true,
    "tags": []
   },
   "source": [
    "Para esta **Regresión Lineal** vamos a utilizar el dataset de muestra *car_crashes* de la libreria ```Seaborn```.\n",
    "\n",
    "Este conjunto de datos incluye información sobre accidentes automovilísticos que ocurrieron en diferentes estados de los Estados Unidos.\n",
    "\n",
    "* total: *La tasa total de accidentes automovilísticos por cada 10,000 habitantes en el estado.*\n",
    "* speeding: *La proporción de accidentes en los que se informó que el conductor estaba excediendo el límite de velocidad.*\n",
    "* alcohol: *La proporción de accidentes en los que se informó que el conductor había consumido alcohol.*\n",
    "* not_distracted: *La proporción de accidentes en los que no se informó que el conductor estaba distraído.*\n",
    "* no_previous: *La proporción de accidentes en los que el conductor no había estado involucrado en un accidente anterior.*\n",
    "* ins_premium: *El costo promedio del seguro de automóvil en el estado.*\n",
    "* ins_losses: *Las pérdidas promedio pagadas por las compañías de seguros por cada vehículo asegurado en el estado.*"
   ]
  },
  {
   "cell_type": "code",
   "execution_count": null,
   "id": "b739e6aa-6ecb-48b7-aed1-727e2fd54b2c",
   "metadata": {},
   "outputs": [],
   "source": [
    "import seaborn as sns\n",
    "\n",
    "# Cargar los datos del dataset \"car_crashes\"\n",
    "data = sns.load_dataset(\"car_crashes\")"
   ]
  },
  {
   "cell_type": "code",
   "execution_count": null,
   "id": "912f850b-e98a-4b8e-aaaf-8d8209ace550",
   "metadata": {},
   "outputs": [],
   "source": [
    "data.head()"
   ]
  },
  {
   "cell_type": "code",
   "execution_count": null,
   "id": "be72df15-ace0-43cb-bb0e-3e80dcb67357",
   "metadata": {},
   "outputs": [],
   "source": [
    "obs = str(data.shape[0])\n",
    "print('Total Observaciones: ' + obs) \n",
    "feat = str(data.shape[1])\n",
    "print('Total Features: ' + feat)"
   ]
  },
  {
   "cell_type": "markdown",
   "id": "a830bda4-cb52-4169-b75f-6aacd964d3de",
   "metadata": {
    "tags": []
   },
   "source": [
    "## Analizando los Datos"
   ]
  },
  {
   "cell_type": "code",
   "execution_count": null,
   "id": "c6338402-9f41-4ba6-b8de-9bced94bcb20",
   "metadata": {},
   "outputs": [],
   "source": [
    "# Visualizamos la relación entre variables\n",
    "sns.pairplot(data, height=1.2)"
   ]
  },
  {
   "cell_type": "code",
   "execution_count": null,
   "id": "524d6c91-d71d-4f62-aa00-bcdeb9d297a5",
   "metadata": {},
   "outputs": [],
   "source": [
    "data.describe()"
   ]
  },
  {
   "cell_type": "code",
   "execution_count": null,
   "id": "2dc4826b-592d-4bf0-89ba-3789d859b61f",
   "metadata": {},
   "outputs": [],
   "source": [
    "import matplotlib.pyplot as plt\n",
    "\n",
    "#Eliminando columnas con valores mas altos\n",
    "#columnas_a_eliminar = ['ins_premium', 'ins_losses',]\n",
    "#data = data.drop(columnas_a_eliminar, axis=1)\n",
    "\n",
    "\n",
    "# Crear el diagrama de caja\n",
    "sns.set(style=\"whitegrid\", palette=\"muted\")\n",
    "sns.boxplot(data=data, orient=\"h\", palette=\"Set2\")\n",
    "\n",
    "# Ajustar la visualización del gráfico\n",
    "sns.despine(left=True, bottom=True)\n",
    "plt.tight_layout()\n",
    "\n",
    "# Mostrar el gráfico\n",
    "plt.show()"
   ]
  },
  {
   "cell_type": "code",
   "execution_count": null,
   "id": "ca76b937-a0e1-4300-b18c-5e38a759862f",
   "metadata": {},
   "outputs": [],
   "source": [
    "from sklearn.model_selection import train_test_split\n",
    "from sklearn.linear_model import LinearRegression\n",
    "from sklearn.metrics import r2_score\n",
    "\n",
    "# Cargar los datos del dataset \"car_crashes\"\n",
    "data = sns.load_dataset(\"car_crashes\")\n",
    "\n",
    "# Separando  los datos del dataset \"car_crashes\"\n",
    "df1 = data.iloc[:,0:5]\n",
    "data = data.iloc[:,-3:-1]\n",
    "\n",
    "# Excluir las columnas no numéricas del conjunto de datos\n",
    "data_numeric = data.select_dtypes(include=['float64', 'int64'])\n",
    "\n",
    "# Escalar los datos utilizando MinMaxScaler\n",
    "#scaler = MinMaxScaler()\n",
    "scaler = MinMaxScaler(feature_range=(6, 12))\n",
    "data_scaled = scaler.fit_transform(data_numeric)\n",
    "data_scaled_df = pd.DataFrame(data_scaled, columns=data_numeric.columns)\n",
    "# Unimos los Dataframes\n",
    "data = pd.merge(df1, data_scaled_df[['ins_premium', 'ins_losses']], left_index=True, right_index=True)\n",
    "\n",
    "#data =  pd.merge(df1, data_scaled_df[['ins_premium', 'ins_losses']])\n",
    "\n",
    "# Crear el diagrama de caja\n",
    "sns.set(style=\"whitegrid\", palette=\"muted\")\n",
    "ax = sns.boxplot(data, orient=\"h\", palette=\"Set2\")\n",
    "\n",
    "# Ajustar la visualización del gráfico\n",
    "sns.despine(left=True, bottom=True)\n",
    "plt.tight_layout()\n",
    "\n",
    "# Mostrar el gráfico\n",
    "plt.show()"
   ]
  },
  {
   "cell_type": "markdown",
   "id": "85918b2b-a11c-45bd-b113-a258d13a98ef",
   "metadata": {
    "tags": []
   },
   "source": [
    "## Entrenando el Primer Modelo"
   ]
  },
  {
   "cell_type": "code",
   "execution_count": null,
   "id": "f643190d-ba69-4eac-88f2-46f8823eb9cf",
   "metadata": {},
   "outputs": [],
   "source": [
    "from sklearn.model_selection import train_test_split\n",
    "from sklearn.linear_model import LinearRegression\n",
    "from sklearn.metrics import r2_score\n",
    "\n",
    "\n",
    "# Variables Independiente (X), Dependiente (y)\n",
    "X = data[[\"no_previous\"]]\n",
    "y = data[\"total\"]\n",
    "\n",
    "# División de datos\n",
    "X_train, X_test, y_train, y_test = train_test_split(X, y, test_size=0.3, random_state=123)\n",
    "\n",
    "# Entrenamiento del modelo\n",
    "reg = LinearRegression()\n",
    "reg.fit(X_train, y_train)\n",
    "\n",
    "# Evaluación del modelo\n",
    "y_pred = reg.predict(X_test)\n",
    "r2 = r2_score(y_test, y_pred)\n",
    "print(\"Coeficiente de determinación: \", r2)"
   ]
  },
  {
   "cell_type": "code",
   "execution_count": null,
   "id": "88ffa50e-9516-4009-b46d-eb68e3e29883",
   "metadata": {},
   "outputs": [],
   "source": [
    "y_pred_train = reg.predict(X_train)\n",
    "plt.scatter(X_train, y_train, color='blue')\n",
    "plt.scatter(X_test, y_test, color='red')\n",
    "plt.plot(X_train, y_pred_train, '--', color='red', linewidth=2)"
   ]
  },
  {
   "cell_type": "markdown",
   "id": "7d7dd473-3ca4-4a5d-960d-74dea12a4a4f",
   "metadata": {
    "tags": []
   },
   "source": [
    "## Escalando los Datos"
   ]
  },
  {
   "cell_type": "code",
   "execution_count": null,
   "id": "9913ca0d-8832-4435-b844-692e22c6c080",
   "metadata": {},
   "outputs": [],
   "source": [
    "from sklearn.model_selection import train_test_split\n",
    "from sklearn.linear_model import LinearRegression\n",
    "from sklearn.metrics import r2_score\n",
    "\n",
    "# Cargar los datos del dataset \"car_crashes\"\n",
    "data = sns.load_dataset(\"car_crashes\")\n",
    "\n",
    "# Excluir las columnas no numéricas del conjunto de datos\n",
    "data_numeric = data.select_dtypes(include=['float64', 'int64'])\n",
    "\n",
    "# Escalar los datos utilizando MinMaxScaler\n",
    "scaler = MinMaxScaler()\n",
    "data_scaled = scaler.fit_transform(data_numeric)\n",
    "data_scaled_df = pd.DataFrame(data_scaled, columns=data_numeric.columns)\n",
    "\n",
    "# Variables Independiente (X), Dependiente (y)\n",
    "X = data_scaled_df[[\"alcohol\"]]\n",
    "y = data_scaled_df[\"total\"]\n",
    "\n",
    "# Dividir los datos en conjuntos de entrenamiento y prueba\n",
    "X_train, X_test, y_train, y_test = train_test_split(X, y, test_size=0.3, random_state=123)\n",
    "\n",
    "# Crear una instancia del modelo de regresión lineal\n",
    "model = LinearRegression()\n",
    "\n",
    "# Ajustar el modelo utilizando los datos de entrenamiento\n",
    "model.fit(X_train, y_train)\n",
    "\n",
    "# Predecir los valores de la variable de salida (y) para los datos de prueba\n",
    "y_pred = model.predict(X_test)\n",
    "\n",
    "# Calcular el coeficiente de determinación R2\n",
    "r2 = r2_score(y_test, y_pred)\n",
    "\n",
    "print(\"El coeficiente de determinación R2 es:\", r2)\n"
   ]
  },
  {
   "cell_type": "code",
   "execution_count": null,
   "id": "4183531b-1f5a-4c61-97a1-06a980094817",
   "metadata": {},
   "outputs": [],
   "source": [
    "import seaborn as sns\n",
    "import matplotlib.pyplot as plt\n",
    "\n",
    "# Crear un DataFrame con las variables \"alcohol\" y \"accidentes\"\n",
    "#df = sns.load_dataset('car_crashes')[['alcohol', 'total']]\n",
    "\n",
    "# Crear el gráfico scatterplot\n",
    "sns.scatterplot(data=data_scaled_df, x='alcohol', y='total')\n",
    "\n",
    "# Mostrar el gráfico\n",
    "plt.show()"
   ]
  },
  {
   "cell_type": "markdown",
   "id": "3dd27002-06c6-4602-9d81-820eac72bfd1",
   "metadata": {
    "tags": []
   },
   "source": [
    "## Otras Metricas de Validación"
   ]
  },
  {
   "cell_type": "code",
   "execution_count": null,
   "id": "ece9a659-1c9a-4551-a095-e06841358193",
   "metadata": {},
   "outputs": [],
   "source": [
    "from sklearn.metrics import mean_squared_error, mean_absolute_error, r2_score\n",
    "import numpy as np\n",
    "\n",
    "# Calcular las predicciones del modelo para los datos de prueba\n",
    "y_pred = model.predict(X_test)\n",
    "\n",
    "# Calcular el error cuadrático medio (MSE)\n",
    "mse = mean_squared_error(y_test, y_pred)\n",
    "\n",
    "# Calcular el error absoluto medio (MAE)\n",
    "mae = mean_absolute_error(y_test, y_pred)\n",
    "\n",
    "# Calcular la raíz del error cuadrático medio (RMSE)\n",
    "rmse = np.sqrt(mse)\n",
    "\n",
    "# Calcular el coeficiente de determinación (R2)\n",
    "r2 = r2_score(y_test, y_pred)\n",
    "\n",
    "# Calcular el error porcentual absoluto medio (MAPE)\n",
    "mape = np.mean(np.abs((y_test - y_pred) / y_test)) * 100\n",
    "\n",
    "# Crear un DataFrame con las métricas de evaluación\n",
    "metrics_df = pd.DataFrame({'MSE': [mse], 'MAE': [mae], 'RMSE': [rmse], 'R2': [r2], 'MAPE': [mape]})\n",
    "\n",
    "metrics_df\n"
   ]
  },
  {
   "cell_type": "code",
   "execution_count": null,
   "id": "b57a520e-3018-44e3-a7e1-fd789ee85221",
   "metadata": {},
   "outputs": [],
   "source": []
  }
 ],
 "metadata": {
  "kernelspec": {
   "display_name": "default:Python",
   "language": "python",
   "name": "conda-env-default-py"
  },
  "language_info": {
   "codemirror_mode": {
    "name": "ipython",
    "version": 3
   },
   "file_extension": ".py",
   "mimetype": "text/x-python",
   "name": "python",
   "nbconvert_exporter": "python",
   "pygments_lexer": "ipython3",
   "version": "3.9.13"
  }
 },
 "nbformat": 4,
 "nbformat_minor": 5
}
